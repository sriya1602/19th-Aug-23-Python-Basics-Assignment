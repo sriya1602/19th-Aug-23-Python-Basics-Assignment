{
 "cells": [
  {
   "cell_type": "markdown",
   "id": "2180c79f-57cf-4573-b291-562b8674246d",
   "metadata": {},
   "source": [
    "TOPIC: Python Basics Variable"
   ]
  },
  {
   "cell_type": "markdown",
   "id": "f12e471a-7bac-43d5-a039-4a6084a4b016",
   "metadata": {},
   "source": [
    "1. Declare two variables, `x` and `y`, and assign them integer values. Swap the\n",
    "values of these variables without using any temporary variable."
   ]
  },
  {
   "cell_type": "code",
   "execution_count": 9,
   "id": "5908d9a8-b595-4994-862b-bf63bbb183da",
   "metadata": {},
   "outputs": [
    {
     "name": "stdout",
     "output_type": "stream",
     "text": [
      "Before swaping 3 6\n",
      "\n",
      "After swaping 6 3\n",
      "\n"
     ]
    }
   ],
   "source": [
    "x=3\n",
    "y=6\n",
    "print(\"Before swaping %d %d\\n\"%(x,y))\n",
    "x=x+y\n",
    "y=x-y\n",
    "x=x-y\n",
    "print(\"After swaping %d %d\\n\"%(x,y))"
   ]
  },
  {
   "cell_type": "markdown",
   "id": "f6910328-ea03-49b4-8996-6febfcc17095",
   "metadata": {},
   "source": [
    "2. Create a program that calculates the area of a rectangle. Take the length and\n",
    "width as inputs from the user and store them in variables. Calculate and\n",
    "display the area."
   ]
  },
  {
   "cell_type": "code",
   "execution_count": 2,
   "id": "e174379b-13e2-4612-8bcf-656d175caf3b",
   "metadata": {},
   "outputs": [
    {
     "name": "stdin",
     "output_type": "stream",
     "text": [
      "Enter the length of rectangle :  2\n",
      "Enter the width of rectangle :  3\n"
     ]
    },
    {
     "name": "stdout",
     "output_type": "stream",
     "text": [
      "Area of the rectangle is :  6\n"
     ]
    }
   ],
   "source": [
    "length = int(input(\"Enter the length of rectangle : \"))\n",
    "width = int(input(\"Enter the width of rectangle : \"))\n",
    "area=length*width\n",
    "print(\"Area of the rectangle is : \",area)"
   ]
  },
  {
   "cell_type": "markdown",
   "id": "df288ba9-d8cc-4a0e-a0e4-42bcbb53f304",
   "metadata": {},
   "source": [
    "3. Write a Python program that converts temperatures from Celsius to\n",
    "Fahrenheit. Take the temperature in Celsius as input, store it in a variable,\n",
    "convert it to Fahrenheit, and display the result."
   ]
  },
  {
   "cell_type": "code",
   "execution_count": 10,
   "id": "1e144a10-38d5-4846-b1e1-6b5358161313",
   "metadata": {},
   "outputs": [
    {
     "name": "stdin",
     "output_type": "stream",
     "text": [
      "Enter the temperature in Celsius :  45\n"
     ]
    },
    {
     "name": "stdout",
     "output_type": "stream",
     "text": [
      "temperature in Fahrenheit :  113.0\n"
     ]
    }
   ],
   "source": [
    "temp_celsius = int(input(\"Enter the temperature in Celsius : \"))\n",
    "temp_fahrenheit = (temp_celsius*1.8)+32\n",
    "print(\"temperature in Fahrenheit : \",temp_fahrenheit)"
   ]
  },
  {
   "cell_type": "markdown",
   "id": "7279226e-8cc8-4e8a-bdcc-23cf8c1c8661",
   "metadata": {},
   "source": [
    "TOPIC: String Based Questions"
   ]
  },
  {
   "cell_type": "markdown",
   "id": "21856aec-7b88-4bac-813a-ae6edb587ac9",
   "metadata": {},
   "source": [
    "1. Write a Python program that takes a string as input and prints the length of\n",
    "the string."
   ]
  },
  {
   "cell_type": "code",
   "execution_count": 4,
   "id": "d29da5c2-ded6-4018-a914-f4a3cdf1f1e1",
   "metadata": {},
   "outputs": [
    {
     "name": "stdin",
     "output_type": "stream",
     "text": [
      "Enter a string :  sriya\n"
     ]
    },
    {
     "name": "stdout",
     "output_type": "stream",
     "text": [
      "5\n"
     ]
    }
   ],
   "source": [
    "x=input(\"Enter a string : \")\n",
    "print(len(x))"
   ]
  },
  {
   "cell_type": "markdown",
   "id": "a5b32aa8-5a75-49b7-ae81-1ded5f682285",
   "metadata": {},
   "source": [
    "2. Create a program that takes a sentence from the user and counts the number\n",
    "of vowels (a, e, i, o, u) in the string."
   ]
  },
  {
   "cell_type": "code",
   "execution_count": 5,
   "id": "2756a4fe-30e4-443b-943c-24859d98044c",
   "metadata": {},
   "outputs": [
    {
     "name": "stdin",
     "output_type": "stream",
     "text": [
      "Enter a sentence :  pwskills\n"
     ]
    },
    {
     "name": "stdout",
     "output_type": "stream",
     "text": [
      "1\n"
     ]
    }
   ],
   "source": [
    "sentence = input(\"Enter a sentence : \")\n",
    "vowels = \"aeiouAEIOU\"\n",
    "count = sum(sentence.count(vowel) for vowel in vowels)\n",
    "print(count)\n"
   ]
  },
  {
   "cell_type": "markdown",
   "id": "3ca2c82c-3fbe-4943-a710-b681198dd3cd",
   "metadata": {},
   "source": [
    "3. Given a string, reverse the order of characters using string slicing and print\n",
    "the reversed string."
   ]
  },
  {
   "cell_type": "code",
   "execution_count": 6,
   "id": "eee574f8-34f0-4de7-950b-cc635fa1f442",
   "metadata": {},
   "outputs": [
    {
     "data": {
      "text/plain": [
       "'sllikswp'"
      ]
     },
     "execution_count": 6,
     "metadata": {},
     "output_type": "execute_result"
    }
   ],
   "source": [
    "string = \"pwskills\"\n",
    "string[7:-9:-1]"
   ]
  },
  {
   "cell_type": "markdown",
   "id": "dc414b3a-4f94-4787-bd8e-c64d37e6a517",
   "metadata": {},
   "source": [
    "4. Write a program that takes a string as input and checks if it is a palindrome\n",
    "(reads the same forwards and backwards)."
   ]
  },
  {
   "cell_type": "code",
   "execution_count": 7,
   "id": "05f47b0a-a73b-468a-8993-5b33c38f1f8e",
   "metadata": {},
   "outputs": [
    {
     "name": "stdin",
     "output_type": "stream",
     "text": [
      "Enter a string pwskills\n"
     ]
    },
    {
     "name": "stdout",
     "output_type": "stream",
     "text": [
      "Given string is not a palindrome\n"
     ]
    }
   ],
   "source": [
    "def ispalindrome(string):\n",
    "    return string == string[::-1]\n",
    "string = input(\"Enter a string\")\n",
    "check = ispalindrome(string)\n",
    "if check:\n",
    "    print(\"Given string is a palindrome\")\n",
    "else:\n",
    "    print(\"Given string is not a palindrome\")"
   ]
  },
  {
   "cell_type": "markdown",
   "id": "13782bc9-a154-496e-b525-69baedb555a1",
   "metadata": {},
   "source": [
    "5. Create a program that takes a string as input and removes all the spaces from\n",
    "it. Print the modified string without spaces."
   ]
  },
  {
   "cell_type": "code",
   "execution_count": 8,
   "id": "4fb00f9a-0183-41e4-a03d-7c5c1fd175d2",
   "metadata": {},
   "outputs": [
    {
     "name": "stdin",
     "output_type": "stream",
     "text": [
      "Enter a string :  p w s k i ll s\n"
     ]
    },
    {
     "name": "stdout",
     "output_type": "stream",
     "text": [
      "pwskills\n"
     ]
    }
   ],
   "source": [
    "def removeSpaces(string):\n",
    "    string = string.replace(' ','')\n",
    "    return string\n",
    "string = input(\"Enter a string : \")\n",
    "print(removeSpaces(string))"
   ]
  },
  {
   "cell_type": "code",
   "execution_count": null,
   "id": "2cfec55e-32d1-4b43-b8c7-0b164e488e83",
   "metadata": {},
   "outputs": [],
   "source": []
  }
 ],
 "metadata": {
  "kernelspec": {
   "display_name": "Python 3 (ipykernel)",
   "language": "python",
   "name": "python3"
  },
  "language_info": {
   "codemirror_mode": {
    "name": "ipython",
    "version": 3
   },
   "file_extension": ".py",
   "mimetype": "text/x-python",
   "name": "python",
   "nbconvert_exporter": "python",
   "pygments_lexer": "ipython3",
   "version": "3.10.8"
  }
 },
 "nbformat": 4,
 "nbformat_minor": 5
}
